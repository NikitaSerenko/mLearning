{
 "cells": [
  {
   "cell_type": "code",
   "execution_count": 68,
   "metadata": {
    "collapsed": false
   },
   "outputs": [
    {
     "name": "stdout",
     "output_type": "stream",
     "text": [
      "10638\n",
      "28835\n"
     ]
    }
   ],
   "source": [
    "import numpy as np\n",
    "from random import shuffle\n",
    "\n",
    "\n",
    "f = open('linear_train.txt', 'r')\n",
    "data = []\n",
    "for s in f:\n",
    "    data.append(s)\n",
    "shuffle(data)\n",
    "words = []\n",
    "answers = []\n",
    "d = 0\n",
    "for s in data:\n",
    "    l = s.split(',')\n",
    "    if (int(l[1]) == 0 and d % 5 == 0) or (int(l[1]) == 1):\n",
    "        words.append(l[0])\n",
    "        answers.append(int(l[1]))\n",
    "    d += 1\n",
    "k = 0\n",
    "for i in answers:\n",
    "    if i == 1:\n",
    "        k += 1\n",
    "print (k)\n",
    "print(len(answers))\n",
    "f.close()"
   ]
  },
  {
   "cell_type": "code",
   "execution_count": 3,
   "metadata": {
    "collapsed": false
   },
   "outputs": [
    {
     "name": "stderr",
     "output_type": "stream",
     "text": [
      "/home/cheshire/anaconda3/lib/python3.6/site-packages/sklearn/cross_validation.py:44: DeprecationWarning: This module was deprecated in version 0.18 in favor of the model_selection module into which all the refactored classes and functions are moved. Also note that the interface of the new CV iterators are different from that of this module. This module will be removed in 0.20.\n",
      "  \"This module will be removed in 0.20.\", DeprecationWarning)\n"
     ]
    }
   ],
   "source": [
    "from sklearn import cross_validation\n",
    "train_data, test_data, train_labels, test_labels = cross_validation.train_test_split(words, answers, \n",
    "                                                                                     test_size = 0.3)"
   ]
  },
  {
   "cell_type": "code",
   "execution_count": 4,
   "metadata": {
    "collapsed": false
   },
   "outputs": [
    {
     "name": "stdout",
     "output_type": "stream",
     "text": [
      "Размер обучающей выборки: 20188 объектов \n",
      "Размер тестовой выборки: 8653 объектов\n"
     ]
    }
   ],
   "source": [
    "print ('Размер обучающей выборки: {} объектов \\nРазмер тестовой выборки: {} объектов'.format(len(train_data),\n",
    "                                                                                            len(test_data)))"
   ]
  },
  {
   "cell_type": "code",
   "execution_count": 8,
   "metadata": {
    "collapsed": true
   },
   "outputs": [],
   "source": [
    "from sklearn import cross_validation, linear_model, metrics"
   ]
  },
  {
   "cell_type": "code",
   "execution_count": 542,
   "metadata": {
    "collapsed": false
   },
   "outputs": [
    {
     "name": "stdout",
     "output_type": "stream",
     "text": [
      "10638\n",
      "101408\n"
     ]
    }
   ],
   "source": [
    "words = []\n",
    "answers = []\n",
    "d = 0\n",
    "for s in data:\n",
    "    l = s.split(',')\n",
    "    if (int(l[1]) == 0) or (int(l[1]) == 1):\n",
    "        words.append(l[0])\n",
    "        answers.append(int(l[1]))\n",
    "    d += 1\n",
    "k = 0\n",
    "for i in answers:\n",
    "    if i == 1:\n",
    "        k += 1\n",
    "print (k)\n",
    "print(len(answers))\n",
    "\n",
    "w_okon_1 = []\n",
    "w_okon_fam_1 = []\n",
    "i = 0\n",
    "for w in words:\n",
    "    if answers[i] == 1.0:\n",
    "        w_okon_fam_1.append(w[-2:].lower())\n",
    "    else:\n",
    "        w_okon_1.append(w[-2:].lower())\n",
    "    i += 1"
   ]
  },
  {
   "cell_type": "code",
   "execution_count": 544,
   "metadata": {
    "collapsed": false
   },
   "outputs": [],
   "source": [
    "sv = []\n",
    "i = 0\n",
    "for w in train_data:\n",
    "    x = []\n",
    "    if w[0].istitle():\n",
    "        x.append(1.0)\n",
    "        #print(w)\n",
    "    else:\n",
    "        x.append(0.0)\n",
    "        #print(w)\n",
    "    k = 0\n",
    "    for c in w:\n",
    "        if c in ['у','е','э','о','а','ы','я','и','э','У','Е','Э','О','А','Ы','Я','И','Э']:\n",
    "            k+=1\n",
    "    x.append(float(k))\n",
    "    x.append(len(w))\n",
    "        \n",
    "    #if w[-2:].lower() in w_okon_fam_1:\n",
    "     #   x.append(1.0)\n",
    "    #else:\n",
    "     #   x.append(0.0)\n",
    "        \n",
    "    a = 0    \n",
    "    for s in w_okon_fam_1:\n",
    "        for i in range(0,min(2, len(s), len(w))):\n",
    "            if w[-i] == s[-i]:\n",
    "                a += 1\n",
    "    x.append(a)\n",
    "    #if w[-2:].lower in w_okon_1:\n",
    "     #   x.append(1.0)\n",
    "    #else:\n",
    "     #   x.append(0.0)\n",
    "\n",
    "    \n",
    "    sv.append(x)\n",
    "    i += 1\n",
    "    \n",
    "sv_test = []\n",
    "i = 0\n",
    "for w in test_data:\n",
    "    x = []\n",
    "    if w[0].istitle():\n",
    "        x.append(1.0)\n",
    "        #print(w)\n",
    "    else:\n",
    "        x.append(0.0)\n",
    "        #print(w)\n",
    "    k = 0\n",
    "    for c in w:\n",
    "        if c in ['у','е','э','о','а','ы','я','и','э','У','Е','Э','О','А','Ы','Я','И','Э']:\n",
    "            k+=1\n",
    "    x.append(float(k))\n",
    "    x.append(len(w))\n",
    "        \n",
    "        \n",
    "    a = 0    \n",
    "    for s in w_okon_fam_1:\n",
    "        for i in range(0,min(2, len(s), len(w))):\n",
    "            if w[-i] == s[-i]:\n",
    "                a += 1\n",
    "    x.append(a)\n",
    "\n",
    "    #if w[-2:].lower() in w_okon_fam_1:\n",
    "     #   x.append(1.0)\n",
    "    #else:\n",
    "     #   x.append(0.0)\n",
    "    #if w[-2:].lower() in w_okon_1:\n",
    "     #   x.append(1.0)\n",
    "    #else:\n",
    "     #   x.append(0.0)\n",
    "    \n",
    "    sv_test.append(x)\n",
    "    i += 1"
   ]
  },
  {
   "cell_type": "code",
   "execution_count": 77,
   "metadata": {
    "collapsed": true
   },
   "outputs": [],
   "source": [
    "transformer = CountVectorizer(min_df=1, \n",
    "                              ngram_range=(3, 8), \n",
    "                              analyzer='char_wb', \n",
    "                              binary=True)"
   ]
  },
  {
   "cell_type": "code",
   "execution_count": 78,
   "metadata": {
    "collapsed": true
   },
   "outputs": [],
   "source": [
    "def lower(text):\n",
    "    return text.lower()\n",
    "import pandas as pnd\n",
    "data = pnd.read_csv(\"sample11111.txt\", \n",
    "                   sep=\",\", \n",
    "                   names=['Words', 'Answers'])"
   ]
  },
  {
   "cell_type": "code",
   "execution_count": 79,
   "metadata": {
    "collapsed": false
   },
   "outputs": [
    {
     "data": {
      "text/plain": [
       "pandas.core.series.Series"
      ]
     },
     "execution_count": 79,
     "metadata": {},
     "output_type": "execute_result"
    }
   ],
   "source": [
    "\n",
    "data['Words'] = data['Words'].apply(lower)\n",
    "words = data['Words']\n",
    "answers = data['Answers']\n",
    "type(data['Words'])"
   ]
  },
  {
   "cell_type": "code",
   "execution_count": 80,
   "metadata": {
    "collapsed": true
   },
   "outputs": [],
   "source": [
    "\n",
    "words = words.apply(lower)"
   ]
  },
  {
   "cell_type": "code",
   "execution_count": 81,
   "metadata": {
    "collapsed": true
   },
   "outputs": [],
   "source": [
    "train_data, test_data, train_labels, test_labels = cross_validation.train_test_split(words, answers, \n",
    "                                                                                     test_size = 0.3)"
   ]
  },
  {
   "cell_type": "code",
   "execution_count": 82,
   "metadata": {
    "collapsed": false
   },
   "outputs": [
    {
     "data": {
      "text/plain": [
       "LogisticRegression(C=3, class_weight=None, dual=False, fit_intercept=True,\n",
       "          intercept_scaling=1, max_iter=100, multi_class='ovr', n_jobs=1,\n",
       "          penalty='l2', random_state=None, solver='liblinear', tol=0.0001,\n",
       "          verbose=0, warm_start=False)"
      ]
     },
     "execution_count": 82,
     "metadata": {},
     "output_type": "execute_result"
    }
   ],
   "source": [
    "transformer = CountVectorizer(min_df=1, \n",
    "                              ngram_range=(3, 8), \n",
    "                              analyzer='char_wb', \n",
    "                              binary=True)\n",
    "words = transformer.fit_transform(words)\n",
    "classifier = linear_model.LogisticRegression(penalty='l2', \n",
    "                                C=3)\n",
    "classifier.fit(words, answers)"
   ]
  },
  {
   "cell_type": "code",
   "execution_count": 83,
   "metadata": {
    "collapsed": false
   },
   "outputs": [
    {
     "name": "stdout",
     "output_type": "stream",
     "text": [
      "[[ 0.18749874  0.81250126]\n",
      " [ 0.69743153  0.30256847]\n",
      " [ 0.68669318  0.31330682]\n",
      " ..., \n",
      " [ 0.91155743  0.08844257]\n",
      " [ 0.99872749  0.00127251]\n",
      " [ 0.9982309   0.0017691 ]]\n"
     ]
    }
   ],
   "source": [
    "\n",
    "\n",
    "test = pnd.read_csv('linear_test.txt', names=['Words'])\n",
    "test['Words'] = test['Words'].apply(lower)\n",
    "words = test['Words']\n",
    "matrix = transformer.transform(words)\n",
    "\n",
    "answers = pnd.read_csv('linear_ans_example.txt', \n",
    "                     sep=',', \n",
    "                     names=['Id', 'Answer'], \n",
    "                     header=0)\n",
    "preds = classifier.predict_proba(matrix)\n",
    "print(preds)\n",
    "\n"
   ]
  },
  {
   "cell_type": "code",
   "execution_count": 84,
   "metadata": {
    "collapsed": false
   },
   "outputs": [
    {
     "data": {
      "text/plain": [
       "344125"
      ]
     },
     "execution_count": 84,
     "metadata": {},
     "output_type": "execute_result"
    }
   ],
   "source": [
    "len(classifier.coef_[0])"
   ]
  },
  {
   "cell_type": "code",
   "execution_count": 545,
   "metadata": {
    "collapsed": true
   },
   "outputs": [],
   "source": [
    "ridge_classifier = linear_model.RidgeClassifier(random_state = 1)"
   ]
  },
  {
   "cell_type": "code",
   "execution_count": 546,
   "metadata": {
    "collapsed": false
   },
   "outputs": [
    {
     "data": {
      "text/plain": [
       "RidgeClassifier(alpha=1.0, class_weight=None, copy_X=True, fit_intercept=True,\n",
       "        max_iter=None, normalize=False, random_state=1, solver='auto',\n",
       "        tol=0.001)"
      ]
     },
     "execution_count": 546,
     "metadata": {},
     "output_type": "execute_result"
    }
   ],
   "source": [
    "ridge_classifier.fit(np.array(sv), train_labels)"
   ]
  },
  {
   "cell_type": "code",
   "execution_count": 547,
   "metadata": {
    "collapsed": false
   },
   "outputs": [],
   "source": [
    "ridge_predictions = ridge_classifier.predict(sv_test)"
   ]
  },
  {
   "cell_type": "code",
   "execution_count": 548,
   "metadata": {
    "collapsed": false
   },
   "outputs": [
    {
     "data": {
      "text/plain": [
       "0.7587084828144891"
      ]
     },
     "execution_count": 548,
     "metadata": {},
     "output_type": "execute_result"
    }
   ],
   "source": [
    "metrics.accuracy_score(test_labels, ridge_predictions)"
   ]
  },
  {
   "cell_type": "code",
   "execution_count": 549,
   "metadata": {
    "collapsed": false
   },
   "outputs": [
    {
     "data": {
      "text/plain": [
       "array([[  9.09456352e-01,  -1.08080018e-01,  -7.87982762e-03,\n",
       "          1.71443917e-04]])"
      ]
     },
     "execution_count": 549,
     "metadata": {},
     "output_type": "execute_result"
    }
   ],
   "source": [
    "ridge_classifier.coef_"
   ]
  },
  {
   "cell_type": "code",
   "execution_count": 550,
   "metadata": {
    "collapsed": false
   },
   "outputs": [
    {
     "data": {
      "text/plain": [
       "array([-0.53990171])"
      ]
     },
     "execution_count": 550,
     "metadata": {},
     "output_type": "execute_result"
    }
   ],
   "source": [
    "ridge_classifier.intercept_ "
   ]
  },
  {
   "cell_type": "code",
   "execution_count": 551,
   "metadata": {
    "collapsed": false
   },
   "outputs": [
    {
     "data": {
      "text/plain": [
       "0.7614526195713609"
      ]
     },
     "execution_count": 551,
     "metadata": {},
     "output_type": "execute_result"
    }
   ],
   "source": [
    "metrics.roc_auc_score(test_labels, ridge_predictions)"
   ]
  },
  {
   "cell_type": "code",
   "execution_count": 552,
   "metadata": {
    "collapsed": true
   },
   "outputs": [],
   "source": [
    "log_regressor = linear_model.LogisticRegression(random_state = 0)"
   ]
  },
  {
   "cell_type": "code",
   "execution_count": 553,
   "metadata": {
    "collapsed": false
   },
   "outputs": [
    {
     "data": {
      "text/plain": [
       "LogisticRegression(C=1.0, class_weight=None, dual=False, fit_intercept=True,\n",
       "          intercept_scaling=1, max_iter=100, multi_class='ovr', n_jobs=1,\n",
       "          penalty='l2', random_state=0, solver='liblinear', tol=0.0001,\n",
       "          verbose=0, warm_start=False)"
      ]
     },
     "execution_count": 553,
     "metadata": {},
     "output_type": "execute_result"
    }
   ],
   "source": [
    "log_regressor.fit(sv, train_labels)"
   ]
  },
  {
   "cell_type": "code",
   "execution_count": 554,
   "metadata": {
    "collapsed": false
   },
   "outputs": [],
   "source": [
    "lr_predictions = log_regressor.predict(sv_test)"
   ]
  },
  {
   "cell_type": "code",
   "execution_count": 555,
   "metadata": {
    "collapsed": true
   },
   "outputs": [],
   "source": [
    "lr_proba_predictions = log_regressor.predict_proba(sv_test)"
   ]
  },
  {
   "cell_type": "code",
   "execution_count": 556,
   "metadata": {
    "collapsed": false
   },
   "outputs": [
    {
     "data": {
      "text/plain": [
       "array([[  2.53344446e+00,  -3.51940821e-01,  -3.24461525e-02,\n",
       "          5.03237125e-04]])"
      ]
     },
     "execution_count": 556,
     "metadata": {},
     "output_type": "execute_result"
    }
   ],
   "source": [
    "log_regressor.coef_"
   ]
  },
  {
   "cell_type": "code",
   "execution_count": 557,
   "metadata": {
    "collapsed": false
   },
   "outputs": [
    {
     "name": "stdout",
     "output_type": "stream",
     "text": [
      "[[ 0.66237791  0.33762209]\n",
      " [ 0.60308854  0.39691146]\n",
      " [ 0.32698497  0.67301503]\n",
      " ..., \n",
      " [ 0.44657377  0.55342623]\n",
      " [ 0.91539188  0.08460812]\n",
      " [ 0.95824405  0.04175595]]\n"
     ]
    }
   ],
   "source": [
    "print (lr_proba_predictions)"
   ]
  },
  {
   "cell_type": "code",
   "execution_count": 558,
   "metadata": {
    "collapsed": false
   },
   "outputs": [
    {
     "name": "stdout",
     "output_type": "stream",
     "text": [
      "0.758245573429\n"
     ]
    }
   ],
   "source": [
    "print (metrics.accuracy_score(test_labels, lr_predictions))"
   ]
  },
  {
   "cell_type": "code",
   "execution_count": 559,
   "metadata": {
    "collapsed": false
   },
   "outputs": [
    {
     "data": {
      "text/plain": [
       "0.75351768002635366"
      ]
     },
     "execution_count": 559,
     "metadata": {},
     "output_type": "execute_result"
    }
   ],
   "source": [
    "metrics.roc_auc_score(test_labels, lr_predictions)"
   ]
  },
  {
   "cell_type": "code",
   "execution_count": 523,
   "metadata": {
    "collapsed": false
   },
   "outputs": [],
   "source": [
    "f = open('linear_test.txt', 'r')\n",
    "words_test = []\n",
    "for s in f:\n",
    "    words_test.append(s)  \n",
    "\n",
    "sv_test = []\n",
    "i = 0\n",
    "for w in words_test:\n",
    "    x = []\n",
    "    if w[0].istitle():\n",
    "        x.append(1.0)\n",
    "        #print(w)\n",
    "    else:\n",
    "        x.append(0.0)\n",
    "        #print(w)\n",
    "    k = 0\n",
    "    for c in w:\n",
    "        if c in ['у','е','э','о','а','ы','я','и','э','У','Е','Э','О','А','Ы','Я','И','Э']:\n",
    "            k+=1\n",
    "    x.append(float(k))\n",
    "    x.append(len(w))\n",
    "    if w[-2:].lower() in w_okon_fam_1:\n",
    "        x.append(1.0)\n",
    "    else:\n",
    "        x.append(0.0)\n",
    "    if w[-2:].lower in w_okon_1:\n",
    "        x.append(1.0)\n",
    "    else:\n",
    "        x.append(0.0)\n",
    "    \n",
    "    sv_test.append(x)\n",
    "    i += 1\n",
    "f.close()"
   ]
  },
  {
   "cell_type": "code",
   "execution_count": 524,
   "metadata": {
    "collapsed": false
   },
   "outputs": [],
   "source": [
    "lr_proba_predictions = log_regressor.predict_proba(sv_test)"
   ]
  },
  {
   "cell_type": "code",
   "execution_count": 525,
   "metadata": {
    "collapsed": false
   },
   "outputs": [
    {
     "data": {
      "text/plain": [
       "0.05061618138455766"
      ]
     },
     "execution_count": 525,
     "metadata": {},
     "output_type": "execute_result"
    }
   ],
   "source": [
    "lr_proba_predictions[0][1]"
   ]
  },
  {
   "cell_type": "code",
   "execution_count": 85,
   "metadata": {
    "collapsed": true
   },
   "outputs": [],
   "source": [
    "fil = open('sample.txt', 'w')"
   ]
  },
  {
   "cell_type": "code",
   "execution_count": 86,
   "metadata": {
    "collapsed": false
   },
   "outputs": [
    {
     "data": {
      "text/plain": [
       "10"
      ]
     },
     "execution_count": 86,
     "metadata": {},
     "output_type": "execute_result"
    }
   ],
   "source": [
    "fil.write('Id,Answer\\n')"
   ]
  },
  {
   "cell_type": "code",
   "execution_count": 87,
   "metadata": {
    "collapsed": false
   },
   "outputs": [],
   "source": [
    "for i in range(len(preds)):\n",
    "    fil.write(str(i) + ',' + str(preds[i][1]) + '\\n')"
   ]
  },
  {
   "cell_type": "code",
   "execution_count": 88,
   "metadata": {
    "collapsed": true
   },
   "outputs": [],
   "source": [
    "fil.close()"
   ]
  },
  {
   "cell_type": "code",
   "execution_count": 1,
   "metadata": {
    "collapsed": true
   },
   "outputs": [],
   "source": [
    "from sklearn.feature_extraction.text import CountVectorizer"
   ]
  },
  {
   "cell_type": "code",
   "execution_count": 74,
   "metadata": {
    "collapsed": true
   },
   "outputs": [],
   "source": [
    "fil = open('sample11111.txt', 'w')"
   ]
  },
  {
   "cell_type": "code",
   "execution_count": 75,
   "metadata": {
    "collapsed": false
   },
   "outputs": [],
   "source": [
    "for i in range(len(words)):\n",
    "    fil.write(words[i] + ',' + str(answers[i]) + '\\n')\n",
    "fil.close()"
   ]
  },
  {
   "cell_type": "code",
   "execution_count": null,
   "metadata": {
    "collapsed": true
   },
   "outputs": [],
   "source": []
  }
 ],
 "metadata": {
  "kernelspec": {
   "display_name": "Python 3",
   "language": "python",
   "name": "python3"
  },
  "language_info": {
   "codemirror_mode": {
    "name": "ipython",
    "version": 3
   },
   "file_extension": ".py",
   "mimetype": "text/x-python",
   "name": "python",
   "nbconvert_exporter": "python",
   "pygments_lexer": "ipython3",
   "version": "3.6.0"
  }
 },
 "nbformat": 4,
 "nbformat_minor": 2
}
